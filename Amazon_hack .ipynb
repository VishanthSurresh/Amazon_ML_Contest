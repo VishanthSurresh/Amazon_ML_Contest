{
  "nbformat": 4,
  "nbformat_minor": 0,
  "metadata": {
    "colab": {
      "name": "Amazon_hack.ipynb",
      "provenance": []
    },
    "kernelspec": {
      "name": "python3",
      "display_name": "Python 3"
    }
  },
  "cells": [
    {
      "cell_type": "code",
      "metadata": {
        "id": "d4ROVcQb9Fww"
      },
      "source": [
        "import pandas as pd\n",
        "import numpy as np\n",
        "import seaborn as sns\n",
        "import matplotlib.pyplot as plt"
      ],
      "execution_count": 1,
      "outputs": []
    },
    {
      "cell_type": "code",
      "metadata": {
        "id": "VQxkqNm9CUJa"
      },
      "source": [
        "train=pd.read_csv('sample_data/train.csv')\n",
        "test=pd.read_csv('sample_data/test.csv')"
      ],
      "execution_count": 2,
      "outputs": []
    },
    {
      "cell_type": "code",
      "metadata": {
        "colab": {
          "base_uri": "https://localhost:8080/"
        },
        "id": "4XojK0N2CW6g",
        "outputId": "e70556c2-1382-443a-c8d1-2f2883b29b49"
      },
      "source": [
        "train.shape,test.shape"
      ],
      "execution_count": 3,
      "outputs": [
        {
          "output_type": "execute_result",
          "data": {
            "text/plain": [
              "((10738, 12), (7160, 11))"
            ]
          },
          "metadata": {
            "tags": []
          },
          "execution_count": 3
        }
      ]
    },
    {
      "cell_type": "code",
      "metadata": {
        "colab": {
          "base_uri": "https://localhost:8080/"
        },
        "id": "bZhBEdfOCaOo",
        "outputId": "eba60469-9652-487d-b4ba-06c5bafdcb53"
      },
      "source": [
        "train.info()"
      ],
      "execution_count": 4,
      "outputs": [
        {
          "output_type": "stream",
          "text": [
            "<class 'pandas.core.frame.DataFrame'>\n",
            "RangeIndex: 10738 entries, 0 to 10737\n",
            "Data columns (total 12 columns):\n",
            " #   Column                            Non-Null Count  Dtype  \n",
            "---  ------                            --------------  -----  \n",
            " 0   customer_id                       10738 non-null  object \n",
            " 1   customer_visit_score              10738 non-null  float64\n",
            " 2   customer_product_search_score     10696 non-null  float64\n",
            " 3   customer_ctr_score                10738 non-null  float64\n",
            " 4   customer_stay_score               10701 non-null  float64\n",
            " 5   customer_frequency_score          10738 non-null  float64\n",
            " 6   customer_product_variation_score  10692 non-null  float64\n",
            " 7   customer_order_score              10672 non-null  float64\n",
            " 8   customer_affinity_score           10738 non-null  float64\n",
            " 9   customer_active_segment           10715 non-null  object \n",
            " 10  X1                                10701 non-null  object \n",
            " 11  customer_category                 10738 non-null  int64  \n",
            "dtypes: float64(8), int64(1), object(3)\n",
            "memory usage: 1006.8+ KB\n"
          ],
          "name": "stdout"
        }
      ]
    },
    {
      "cell_type": "code",
      "metadata": {
        "id": "xR9vkw20KNlb"
      },
      "source": [
        "from sklearn.impute import KNNImputer\n",
        "imputer = KNNImputer(n_neighbors=3)"
      ],
      "execution_count": 5,
      "outputs": []
    },
    {
      "cell_type": "code",
      "metadata": {
        "id": "vgMZiBflKEsy"
      },
      "source": [
        "train['customer_stay_score']=imputer.fit_transform(train[['customer_stay_score']])\n",
        "train['customer_product_search_score']=imputer.fit_transform(train[['customer_product_search_score']])\n",
        "train['customer_product_variation_score']=imputer.fit_transform(train[['customer_product_variation_score']])\n",
        "train['customer_order_score']=imputer.fit_transform(train[['customer_order_score']])"
      ],
      "execution_count": 6,
      "outputs": []
    },
    {
      "cell_type": "code",
      "metadata": {
        "id": "9CJ6S3KXH54V"
      },
      "source": [
        "# train['X1']=train['X1'].fillna(train['X1'].mode()[0])\n",
        "# train['customer_active_segment']=train['customer_active_segment'].fillna(train['customer_active_segment'].mode()[0])"
      ],
      "execution_count": 7,
      "outputs": []
    },
    {
      "cell_type": "code",
      "metadata": {
        "id": "wmgpeh0WCq-L"
      },
      "source": [
        "# train['customer_active_segment'].value_counts()"
      ],
      "execution_count": 8,
      "outputs": []
    },
    {
      "cell_type": "code",
      "metadata": {
        "colab": {
          "base_uri": "https://localhost:8080/",
          "height": 441
        },
        "id": "E89k9xJ8EYwn",
        "outputId": "e4bc4d09-bc11-491a-8df3-50468c6ff647"
      },
      "source": [
        "pip install feature_engine"
      ],
      "execution_count": 9,
      "outputs": [
        {
          "output_type": "stream",
          "text": [
            "Collecting feature_engine\n",
            "  Downloading https://files.pythonhosted.org/packages/14/ed/5680bf401855b788f79cadc1298c210c5860eb5d54c4008cfa234b752ef1/feature_engine-0.6.1-py2.py3-none-any.whl\n",
            "Collecting statsmodels>=0.11.1\n",
            "\u001b[?25l  Downloading https://files.pythonhosted.org/packages/be/4c/9e2435ca6645d6bafa2b51bb11f0a365b28934a2ffe9d6e339d67130926d/statsmodels-0.12.1-cp36-cp36m-manylinux1_x86_64.whl (9.5MB)\n",
            "\u001b[K     |████████████████████████████████| 9.5MB 6.6MB/s \n",
            "\u001b[?25hRequirement already satisfied: scikit-learn>=0.22.2 in /usr/local/lib/python3.6/dist-packages (from feature_engine) (0.22.2.post1)\n",
            "Requirement already satisfied: pandas>=1.0.3 in /usr/local/lib/python3.6/dist-packages (from feature_engine) (1.1.4)\n",
            "Requirement already satisfied: scipy>=1.4.1 in /usr/local/lib/python3.6/dist-packages (from feature_engine) (1.4.1)\n",
            "Requirement already satisfied: numpy>=1.18.2 in /usr/local/lib/python3.6/dist-packages (from feature_engine) (1.18.5)\n",
            "Requirement already satisfied: patsy>=0.5 in /usr/local/lib/python3.6/dist-packages (from statsmodels>=0.11.1->feature_engine) (0.5.1)\n",
            "Requirement already satisfied: joblib>=0.11 in /usr/local/lib/python3.6/dist-packages (from scikit-learn>=0.22.2->feature_engine) (0.17.0)\n",
            "Requirement already satisfied: python-dateutil>=2.7.3 in /usr/local/lib/python3.6/dist-packages (from pandas>=1.0.3->feature_engine) (2.8.1)\n",
            "Requirement already satisfied: pytz>=2017.2 in /usr/local/lib/python3.6/dist-packages (from pandas>=1.0.3->feature_engine) (2018.9)\n",
            "Requirement already satisfied: six in /usr/local/lib/python3.6/dist-packages (from patsy>=0.5->statsmodels>=0.11.1->feature_engine) (1.15.0)\n",
            "Installing collected packages: statsmodels, feature-engine\n",
            "  Found existing installation: statsmodels 0.10.2\n",
            "    Uninstalling statsmodels-0.10.2:\n",
            "      Successfully uninstalled statsmodels-0.10.2\n",
            "Successfully installed feature-engine-0.6.1 statsmodels-0.12.1\n"
          ],
          "name": "stdout"
        },
        {
          "output_type": "display_data",
          "data": {
            "application/vnd.colab-display-data+json": {
              "pip_warning": {
                "packages": [
                  "statsmodels"
                ]
              }
            }
          },
          "metadata": {
            "tags": []
          }
        }
      ]
    },
    {
      "cell_type": "code",
      "metadata": {
        "id": "AQU8leyWCrBD"
      },
      "source": [
        "# from feature_engine import categorical_encoders as ce\n",
        "# count_encoder = ce.CountFrequencyCategoricalEncoder(encoding_method='frequency',\n",
        "#                          variables=['X1','customer_active_segment'])\n",
        "# count_encoder.fit(train)\n",
        "# train = count_encoder.transform(train)"
      ],
      "execution_count": 10,
      "outputs": []
    },
    {
      "cell_type": "code",
      "metadata": {
        "colab": {
          "base_uri": "https://localhost:8080/",
          "height": 363
        },
        "id": "toFlTBjMbV92",
        "outputId": "4a08e045-9e9f-4d88-c204-a202c4f8c3bf"
      },
      "source": [
        "train.head(10)"
      ],
      "execution_count": 11,
      "outputs": [
        {
          "output_type": "execute_result",
          "data": {
            "text/html": [
              "<div>\n",
              "<style scoped>\n",
              "    .dataframe tbody tr th:only-of-type {\n",
              "        vertical-align: middle;\n",
              "    }\n",
              "\n",
              "    .dataframe tbody tr th {\n",
              "        vertical-align: top;\n",
              "    }\n",
              "\n",
              "    .dataframe thead th {\n",
              "        text-align: right;\n",
              "    }\n",
              "</style>\n",
              "<table border=\"1\" class=\"dataframe\">\n",
              "  <thead>\n",
              "    <tr style=\"text-align: right;\">\n",
              "      <th></th>\n",
              "      <th>customer_id</th>\n",
              "      <th>customer_visit_score</th>\n",
              "      <th>customer_product_search_score</th>\n",
              "      <th>customer_ctr_score</th>\n",
              "      <th>customer_stay_score</th>\n",
              "      <th>customer_frequency_score</th>\n",
              "      <th>customer_product_variation_score</th>\n",
              "      <th>customer_order_score</th>\n",
              "      <th>customer_affinity_score</th>\n",
              "      <th>customer_active_segment</th>\n",
              "      <th>X1</th>\n",
              "      <th>customer_category</th>\n",
              "    </tr>\n",
              "  </thead>\n",
              "  <tbody>\n",
              "    <tr>\n",
              "      <th>0</th>\n",
              "      <td>csid_1</td>\n",
              "      <td>13.168425</td>\n",
              "      <td>9.447662</td>\n",
              "      <td>-0.070203</td>\n",
              "      <td>-0.139541</td>\n",
              "      <td>0.436956</td>\n",
              "      <td>4.705761</td>\n",
              "      <td>2.537985</td>\n",
              "      <td>7.959503</td>\n",
              "      <td>C</td>\n",
              "      <td>F</td>\n",
              "      <td>0</td>\n",
              "    </tr>\n",
              "    <tr>\n",
              "      <th>1</th>\n",
              "      <td>csid_2</td>\n",
              "      <td>17.092979</td>\n",
              "      <td>7.329056</td>\n",
              "      <td>0.153298</td>\n",
              "      <td>-0.102726</td>\n",
              "      <td>0.380340</td>\n",
              "      <td>4.205138</td>\n",
              "      <td>4.193444</td>\n",
              "      <td>17.517381</td>\n",
              "      <td>C</td>\n",
              "      <td>A</td>\n",
              "      <td>0</td>\n",
              "    </tr>\n",
              "    <tr>\n",
              "      <th>2</th>\n",
              "      <td>csid_3</td>\n",
              "      <td>17.505334</td>\n",
              "      <td>5.143676</td>\n",
              "      <td>0.106709</td>\n",
              "      <td>0.262834</td>\n",
              "      <td>0.417648</td>\n",
              "      <td>4.479070</td>\n",
              "      <td>3.878971</td>\n",
              "      <td>12.595155</td>\n",
              "      <td>C</td>\n",
              "      <td>BA</td>\n",
              "      <td>0</td>\n",
              "    </tr>\n",
              "    <tr>\n",
              "      <th>3</th>\n",
              "      <td>csid_4</td>\n",
              "      <td>31.423381</td>\n",
              "      <td>4.917740</td>\n",
              "      <td>-0.020226</td>\n",
              "      <td>-0.100526</td>\n",
              "      <td>0.778130</td>\n",
              "      <td>5.055535</td>\n",
              "      <td>2.708940</td>\n",
              "      <td>4.795073</td>\n",
              "      <td>AA</td>\n",
              "      <td>F</td>\n",
              "      <td>0</td>\n",
              "    </tr>\n",
              "    <tr>\n",
              "      <th>4</th>\n",
              "      <td>csid_5</td>\n",
              "      <td>11.909502</td>\n",
              "      <td>4.237073</td>\n",
              "      <td>0.187178</td>\n",
              "      <td>0.172891</td>\n",
              "      <td>0.162067</td>\n",
              "      <td>3.445247</td>\n",
              "      <td>3.677360</td>\n",
              "      <td>56.636326</td>\n",
              "      <td>C</td>\n",
              "      <td>AA</td>\n",
              "      <td>0</td>\n",
              "    </tr>\n",
              "    <tr>\n",
              "      <th>5</th>\n",
              "      <td>csid_6</td>\n",
              "      <td>9.007922</td>\n",
              "      <td>7.051568</td>\n",
              "      <td>0.161564</td>\n",
              "      <td>0.040997</td>\n",
              "      <td>0.191935</td>\n",
              "      <td>4.209840</td>\n",
              "      <td>3.181961</td>\n",
              "      <td>18.862680</td>\n",
              "      <td>C</td>\n",
              "      <td>BA</td>\n",
              "      <td>0</td>\n",
              "    </tr>\n",
              "    <tr>\n",
              "      <th>6</th>\n",
              "      <td>csid_7</td>\n",
              "      <td>13.707109</td>\n",
              "      <td>5.625179</td>\n",
              "      <td>0.009634</td>\n",
              "      <td>-0.019998</td>\n",
              "      <td>0.177622</td>\n",
              "      <td>4.165093</td>\n",
              "      <td>4.689834</td>\n",
              "      <td>109.203352</td>\n",
              "      <td>B</td>\n",
              "      <td>E</td>\n",
              "      <td>0</td>\n",
              "    </tr>\n",
              "    <tr>\n",
              "      <th>7</th>\n",
              "      <td>csid_8</td>\n",
              "      <td>32.042122</td>\n",
              "      <td>3.563568</td>\n",
              "      <td>-0.050730</td>\n",
              "      <td>0.374230</td>\n",
              "      <td>0.257060</td>\n",
              "      <td>4.366761</td>\n",
              "      <td>4.041260</td>\n",
              "      <td>24.036321</td>\n",
              "      <td>AA</td>\n",
              "      <td>A</td>\n",
              "      <td>0</td>\n",
              "    </tr>\n",
              "    <tr>\n",
              "      <th>8</th>\n",
              "      <td>csid_9</td>\n",
              "      <td>20.434181</td>\n",
              "      <td>5.111682</td>\n",
              "      <td>0.133922</td>\n",
              "      <td>0.036893</td>\n",
              "      <td>0.442314</td>\n",
              "      <td>4.759516</td>\n",
              "      <td>3.407424</td>\n",
              "      <td>17.078123</td>\n",
              "      <td>C</td>\n",
              "      <td>BA</td>\n",
              "      <td>0</td>\n",
              "    </tr>\n",
              "    <tr>\n",
              "      <th>9</th>\n",
              "      <td>csid_10</td>\n",
              "      <td>13.778214</td>\n",
              "      <td>3.829299</td>\n",
              "      <td>0.159102</td>\n",
              "      <td>0.165818</td>\n",
              "      <td>0.558187</td>\n",
              "      <td>6.255980</td>\n",
              "      <td>3.315462</td>\n",
              "      <td>9.443864</td>\n",
              "      <td>B</td>\n",
              "      <td>BA</td>\n",
              "      <td>0</td>\n",
              "    </tr>\n",
              "  </tbody>\n",
              "</table>\n",
              "</div>"
            ],
            "text/plain": [
              "  customer_id  customer_visit_score  ...  X1  customer_category\n",
              "0      csid_1             13.168425  ...   F                  0\n",
              "1      csid_2             17.092979  ...   A                  0\n",
              "2      csid_3             17.505334  ...  BA                  0\n",
              "3      csid_4             31.423381  ...   F                  0\n",
              "4      csid_5             11.909502  ...  AA                  0\n",
              "5      csid_6              9.007922  ...  BA                  0\n",
              "6      csid_7             13.707109  ...   E                  0\n",
              "7      csid_8             32.042122  ...   A                  0\n",
              "8      csid_9             20.434181  ...  BA                  0\n",
              "9     csid_10             13.778214  ...  BA                  0\n",
              "\n",
              "[10 rows x 12 columns]"
            ]
          },
          "metadata": {
            "tags": []
          },
          "execution_count": 11
        }
      ]
    },
    {
      "cell_type": "code",
      "metadata": {
        "colab": {
          "base_uri": "https://localhost:8080/",
          "height": 795
        },
        "id": "mn5fQ8Dse0-Q",
        "outputId": "d302f2ee-a0a4-4ef3-be95-0996a6412ed2"
      },
      "source": [
        "#Correlation\n",
        "corr = train.corr(method='pearson')\n",
        "sns.set(rc={'figure.figsize':(15,10)})\n",
        "sns.heatmap(corr, square=True, annot=True, cmap='viridis')"
      ],
      "execution_count": 12,
      "outputs": [
        {
          "output_type": "execute_result",
          "data": {
            "text/plain": [
              "<matplotlib.axes._subplots.AxesSubplot at 0x7fd46fb2b198>"
            ]
          },
          "metadata": {
            "tags": []
          },
          "execution_count": 12
        },
        {
          "output_type": "display_data",
          "data": {
            "image/png": "[encoded data removed]",
            "text/plain": [
              "<Figure size 1080x720 with 2 Axes>"
            ]
          },
          "metadata": {
            "tags": []
          }
        }
      ]
    },
    {
      "cell_type": "code",
      "metadata": {
        "colab": {
          "base_uri": "https://localhost:8080/"
        },
        "id": "AGtBojF9wZw4",
        "outputId": "b0984453-61f3-45f9-c4fc-8a7cc5c10f68"
      },
      "source": [
        "train.corr().sort_values(by=['customer_category'],ascending=False)['customer_category']"
      ],
      "execution_count": 13,
      "outputs": [
        {
          "output_type": "execute_result",
          "data": {
            "text/plain": [
              "customer_category                   1.000000\n",
              "customer_ctr_score                  0.794445\n",
              "customer_stay_score                 0.678073\n",
              "customer_product_variation_score    0.492824\n",
              "customer_frequency_score            0.389465\n",
              "customer_affinity_score            -0.274105\n",
              "customer_product_search_score      -0.300481\n",
              "customer_order_score               -0.384345\n",
              "customer_visit_score               -0.449654\n",
              "Name: customer_category, dtype: float64"
            ]
          },
          "metadata": {
            "tags": []
          },
          "execution_count": 13
        }
      ]
    },
    {
      "cell_type": "code",
      "metadata": {
        "id": "2u422TNlCrDv"
      },
      "source": [
        "y_train=train['customer_category'] "
      ],
      "execution_count": 14,
      "outputs": []
    },
    {
      "cell_type": "code",
      "metadata": {
        "id": "42uGZv6wCrHF"
      },
      "source": [
        "x_train = train.drop(['customer_id','customer_category','X1','customer_active_segment','customer_order_score','customer_product_search_score','customer_visit_score'],axis=1)"
      ],
      "execution_count": 15,
      "outputs": []
    },
    {
      "cell_type": "code",
      "metadata": {
        "id": "TQnoX3SOWQAO"
      },
      "source": [
        "# from sklearn.model_selection import GridSearchCV\n",
        "# from sklearn import tree\n",
        "# from sklearn.model_selection import StratifiedKFold\n",
        "# model = tree.DecisionTreeClassifier(random_state=42)\n",
        "# params = {'criterion':['entropy','gini'],\n",
        "#           'max_depth':[2,3,5,10,50],\n",
        "#           'min_samples_split':[2,3,50,100],\n",
        "#           'min_samples_leaf':[1,5,8,10]}\n",
        "# grid =  GridSearchCV(model,params,scoring='precision_macro',cv=StratifiedKFold(5),verbose=2,n_jobs=-1)\n",
        "# grid.fit(x_train,y_train)\n",
        "# print(grid.best_score_*-1,grid.best_params_,sep='\\n')"
      ],
      "execution_count": 16,
      "outputs": []
    },
    {
      "cell_type": "code",
      "metadata": {
        "id": "tSXBVFBnCrKv"
      },
      "source": [
        "# from sklearn import tree\n",
        "# classifier = tree.DecisionTreeClassifier(random_state=42,criterion='entropy',max_depth= 3,min_samples_leaf= 1, min_samples_split= 2)\n",
        "# classifier.fit(x_train,y_train)"
      ],
      "execution_count": 17,
      "outputs": []
    },
    {
      "cell_type": "code",
      "metadata": {
        "colab": {
          "base_uri": "https://localhost:8080/"
        },
        "id": "heqTLV4XfAvZ",
        "outputId": "6c0e5653-6a89-4e21-f9bc-15595d52f26a"
      },
      "source": [
        "#Import svm model\n",
        "from sklearn import svm\n",
        "from sklearn.svm import SVC\n",
        "#Create a svm Classifier\n",
        "classifier = svm.SVC(random_state=42)\n",
        "#Train the model using the training sets\n",
        "classifier.fit(x_train,y_train)"
      ],
      "execution_count": 18,
      "outputs": [
        {
          "output_type": "execute_result",
          "data": {
            "text/plain": [
              "SVC(C=1.0, break_ties=False, cache_size=200, class_weight=None, coef0=0.0,\n",
              "    decision_function_shape='ovr', degree=3, gamma='scale', kernel='rbf',\n",
              "    max_iter=-1, probability=False, random_state=42, shrinking=True, tol=0.001,\n",
              "    verbose=False)"
            ]
          },
          "metadata": {
            "tags": []
          },
          "execution_count": 18
        }
      ]
    },
    {
      "cell_type": "code",
      "metadata": {
        "id": "jlTr7jNBCq4m"
      },
      "source": [
        "test['customer_stay_score']=imputer.fit_transform(test[['customer_stay_score']])\n",
        "test['customer_product_search_score']=imputer.fit_transform(test[['customer_product_search_score']])\n",
        "test['customer_product_variation_score']=imputer.fit_transform(test[['customer_product_variation_score']])\n",
        "test['customer_order_score']=imputer.fit_transform(test[['customer_order_score']])"
      ],
      "execution_count": 19,
      "outputs": []
    },
    {
      "cell_type": "code",
      "metadata": {
        "id": "Fsk4vb7zDkUj"
      },
      "source": [
        "# test['X1']=test['X1'].fillna(test['X1'].mode()[0])\n",
        "# test['customer_active_segment']=test['customer_active_segment'].fillna(test['customer_active_segment'].mode()[0])"
      ],
      "execution_count": 20,
      "outputs": []
    },
    {
      "cell_type": "code",
      "metadata": {
        "id": "AozcOYoNDrn0"
      },
      "source": [
        "# count_encoder = ce.CountFrequencyCategoricalEncoder(encoding_method='frequency',\n",
        "#                          variables=['X1','customer_active_segment'])\n",
        "# count_encoder.fit(test)\n",
        "# test = count_encoder.transform(test)"
      ],
      "execution_count": 21,
      "outputs": []
    },
    {
      "cell_type": "code",
      "metadata": {
        "id": "bSoA-6LnDrsG"
      },
      "source": [
        "x_test = test.drop(['customer_id','X1','customer_active_segment','customer_order_score','customer_product_search_score','customer_visit_score'],axis=1)"
      ],
      "execution_count": 22,
      "outputs": []
    },
    {
      "cell_type": "code",
      "metadata": {
        "id": "lDs08WcmDrw7"
      },
      "source": [
        "y_pred_test = classifier.predict(x_test)"
      ],
      "execution_count": 23,
      "outputs": []
    },
    {
      "cell_type": "code",
      "metadata": {
        "id": "qko7ewZ8D2zv"
      },
      "source": [
        "result = pd.DataFrame({\"customer_id\":test['customer_id'],\"customer_category\":y_pred_test})"
      ],
      "execution_count": 24,
      "outputs": []
    },
    {
      "cell_type": "code",
      "metadata": {
        "colab": {
          "base_uri": "https://localhost:8080/",
          "height": 402
        },
        "id": "qyvP3roTD6Gd",
        "outputId": "9c66db48-214c-4d65-fabb-cd71960f4deb"
      },
      "source": [
        "result[result['customer_category']==1]"
      ],
      "execution_count": 25,
      "outputs": [
        {
          "output_type": "execute_result",
          "data": {
            "text/html": [
              "<div>\n",
              "<style scoped>\n",
              "    .dataframe tbody tr th:only-of-type {\n",
              "        vertical-align: middle;\n",
              "    }\n",
              "\n",
              "    .dataframe tbody tr th {\n",
              "        vertical-align: top;\n",
              "    }\n",
              "\n",
              "    .dataframe thead th {\n",
              "        text-align: right;\n",
              "    }\n",
              "</style>\n",
              "<table border=\"1\" class=\"dataframe\">\n",
              "  <thead>\n",
              "    <tr style=\"text-align: right;\">\n",
              "      <th></th>\n",
              "      <th>customer_id</th>\n",
              "      <th>customer_category</th>\n",
              "    </tr>\n",
              "  </thead>\n",
              "  <tbody>\n",
              "    <tr>\n",
              "      <th>84</th>\n",
              "      <td>csid_10823</td>\n",
              "      <td>1</td>\n",
              "    </tr>\n",
              "    <tr>\n",
              "      <th>93</th>\n",
              "      <td>csid_10832</td>\n",
              "      <td>1</td>\n",
              "    </tr>\n",
              "    <tr>\n",
              "      <th>121</th>\n",
              "      <td>csid_10860</td>\n",
              "      <td>1</td>\n",
              "    </tr>\n",
              "    <tr>\n",
              "      <th>123</th>\n",
              "      <td>csid_10862</td>\n",
              "      <td>1</td>\n",
              "    </tr>\n",
              "    <tr>\n",
              "      <th>129</th>\n",
              "      <td>csid_10868</td>\n",
              "      <td>1</td>\n",
              "    </tr>\n",
              "    <tr>\n",
              "      <th>...</th>\n",
              "      <td>...</td>\n",
              "      <td>...</td>\n",
              "    </tr>\n",
              "    <tr>\n",
              "      <th>6718</th>\n",
              "      <td>csid_17457</td>\n",
              "      <td>1</td>\n",
              "    </tr>\n",
              "    <tr>\n",
              "      <th>6721</th>\n",
              "      <td>csid_17460</td>\n",
              "      <td>1</td>\n",
              "    </tr>\n",
              "    <tr>\n",
              "      <th>6791</th>\n",
              "      <td>csid_17530</td>\n",
              "      <td>1</td>\n",
              "    </tr>\n",
              "    <tr>\n",
              "      <th>6820</th>\n",
              "      <td>csid_17559</td>\n",
              "      <td>1</td>\n",
              "    </tr>\n",
              "    <tr>\n",
              "      <th>6904</th>\n",
              "      <td>csid_17643</td>\n",
              "      <td>1</td>\n",
              "    </tr>\n",
              "  </tbody>\n",
              "</table>\n",
              "<p>245 rows × 2 columns</p>\n",
              "</div>"
            ],
            "text/plain": [
              "     customer_id  customer_category\n",
              "84    csid_10823                  1\n",
              "93    csid_10832                  1\n",
              "121   csid_10860                  1\n",
              "123   csid_10862                  1\n",
              "129   csid_10868                  1\n",
              "...          ...                ...\n",
              "6718  csid_17457                  1\n",
              "6721  csid_17460                  1\n",
              "6791  csid_17530                  1\n",
              "6820  csid_17559                  1\n",
              "6904  csid_17643                  1\n",
              "\n",
              "[245 rows x 2 columns]"
            ]
          },
          "metadata": {
            "tags": []
          },
          "execution_count": 25
        }
      ]
    },
    {
      "cell_type": "code",
      "metadata": {
        "id": "v8i1AnRkD6Tb"
      },
      "source": [
        "result.to_csv('svm_features.csv',index=False)"
      ],
      "execution_count": 26,
      "outputs": []
    },
    {
      "cell_type": "code",
      "metadata": {
        "id": "SNsQWmSNUjum"
      },
      "source": [
        ""
      ],
      "execution_count": 26,
      "outputs": []
    }
  ]
}